{
  "cells": [
    {
      "cell_type": "markdown",
      "metadata": {
        "id": "view-in-github",
        "colab_type": "text"
      },
      "source": [
        "<a href=\"https://colab.research.google.com/github/justinsantacruz/MAT421/blob/main/Probability.ipynb\" target=\"_parent\"><img src=\"https://colab.research.google.com/assets/colab-badge.svg\" alt=\"Open In Colab\"/></a>"
      ]
    },
    {
      "cell_type": "code",
      "execution_count": null,
      "id": "9c3700a5",
      "metadata": {
        "id": "9c3700a5"
      },
      "outputs": [],
      "source": [
        "import numpy as np\n",
        "import seaborn as sns\n",
        "import random\n",
        "import matplotlib.pyplot as plt\n",
        "import warnings\n",
        "warnings.filterwarnings('ignore')\n",
        "%matplotlib inline\n"
      ]
    },
    {
      "cell_type": "code",
      "execution_count": null,
      "id": "bfd3dc05",
      "metadata": {
        "id": "bfd3dc05"
      },
      "outputs": [],
      "source": [
        "def plot(var, title):\n",
        "    sns.displot(var)\n",
        "    plt.title(title)\n",
        "    plt.gcf().set_size_inches(10,7)"
      ]
    },
    {
      "cell_type": "code",
      "execution_count": null,
      "id": "8719b157",
      "metadata": {
        "id": "8719b157"
      },
      "outputs": [],
      "source": [
        "X = [np.random.randint(1, 1000) for _ in range(1000)]"
      ]
    },
    {
      "cell_type": "code",
      "execution_count": null,
      "id": "602f0d8a",
      "metadata": {
        "id": "602f0d8a",
        "outputId": "48c280cd-1488-439a-c19e-1eb2b0acc88c"
      },
      "outputs": [
        {
          "data": {
            "image/png": "[encoded data removed]",
            "text/plain": [
              "<Figure size 720x504 with 1 Axes>"
            ]
          },
          "metadata": {
            "needs_background": "light"
          },
          "output_type": "display_data"
        }
      ],
      "source": [
        "plot(X,'population')"
      ]
    },
    {
      "cell_type": "code",
      "execution_count": null,
      "id": "f95567de",
      "metadata": {
        "id": "f95567de",
        "outputId": "27ae0c75-3d05-4b52-8379-294883d1cf89"
      },
      "outputs": [
        {
          "name": "stdout",
          "output_type": "stream",
          "text": [
            "Mean:  494.709\n",
            "Std:  286.23540367851075\n"
          ]
        }
      ],
      "source": [
        "print(\"Mean: \", np.mean(X))\n",
        "print(\"Std: \", np.std(X))"
      ]
    },
    {
      "cell_type": "code",
      "execution_count": null,
      "id": "4afc3ea7",
      "metadata": {
        "id": "4afc3ea7"
      },
      "outputs": [],
      "source": [
        "s_mean = [np.mean(random.choices(X, k = 30)) for _ in range(25)]\n",
        "s_std = [np.std(random.choices(X, k = 30)) for _ in range(25)]"
      ]
    },
    {
      "cell_type": "code",
      "execution_count": null,
      "id": "c1c5e1e2",
      "metadata": {
        "id": "c1c5e1e2",
        "outputId": "420d5b56-7b3e-404b-8c89-1f2f71f6c22a"
      },
      "outputs": [
        {
          "data": {
            "image/png": "[encoded data removed]",
            "text/plain": [
              "<Figure size 720x504 with 1 Axes>"
            ]
          },
          "metadata": {
            "needs_background": "light"
          },
          "output_type": "display_data"
        }
      ],
      "source": [
        "plot(s_mean, 'average of samples')"
      ]
    },
    {
      "cell_type": "code",
      "execution_count": null,
      "id": "1965b696",
      "metadata": {
        "id": "1965b696",
        "outputId": "992b4372-daae-45b4-eae4-e455668d5125"
      },
      "outputs": [
        {
          "name": "stdout",
          "output_type": "stream",
          "text": [
            "Mean:  492.5826666666667\n",
            "Std:  52.25919578377251\n"
          ]
        }
      ],
      "source": [
        "print(\"Mean: \", np.mean(s_mean))\n",
        "print(\"Std: \", np.std(X)/np.sqrt(30))"
      ]
    },
    {
      "cell_type": "code",
      "execution_count": null,
      "id": "6a76fd61",
      "metadata": {
        "id": "6a76fd61",
        "outputId": "3aecbbff-e421-4001-b163-28995cc7d27c"
      },
      "outputs": [
        {
          "name": "stdout",
          "output_type": "stream",
          "text": [
            "S_Std:  281.87514244860813\n"
          ]
        }
      ],
      "source": [
        "print(\"S_Std: \", np.mean(s_std))"
      ]
    },
    {
      "cell_type": "code",
      "execution_count": null,
      "id": "eff07bde",
      "metadata": {
        "id": "eff07bde"
      },
      "outputs": [],
      "source": []
    }
  ],
  "metadata": {
    "kernelspec": {
      "display_name": "Python 3 (ipykernel)",
      "language": "python",
      "name": "python3"
    },
    "language_info": {
      "codemirror_mode": {
        "name": "ipython",
        "version": 3
      },
      "file_extension": ".py",
      "mimetype": "text/x-python",
      "name": "python",
      "nbconvert_exporter": "python",
      "pygments_lexer": "ipython3",
      "version": "3.9.12"
    },
    "colab": {
      "provenance": [],
      "include_colab_link": true
    }
  },
  "nbformat": 4,
  "nbformat_minor": 5
}