{
  "nbformat": 4,
  "nbformat_minor": 0,
  "metadata": {
    "colab": {
      "provenance": [],
      "authorship_tag": "ABX9TyPgBUziIpJ08DAqpQAHtzYI",
      "include_colab_link": true
    },
    "kernelspec": {
      "name": "python3",
      "display_name": "Python 3"
    },
    "language_info": {
      "name": "python"
    }
  },
  "cells": [
    {
      "cell_type": "markdown",
      "metadata": {
        "id": "view-in-github",
        "colab_type": "text"
      },
      "source": [
        "<a href=\"https://colab.research.google.com/github/justinsantacruz/MAT421/blob/main/heads_or_tails.ipynb\" target=\"_parent\"><img src=\"https://colab.research.google.com/assets/colab-badge.svg\" alt=\"Open In Colab\"/></a>"
      ]
    },
    {
      "cell_type": "code",
      "execution_count": 1,
      "metadata": {
        "id": "Nu30lSKhIAPc"
      },
      "outputs": [],
      "source": [
        "import random"
      ]
    },
    {
      "cell_type": "code",
      "source": [
        "heads = 0\n",
        "tails = 0"
      ],
      "metadata": {
        "id": "ewzsTaO5IEgu"
      },
      "execution_count": 2,
      "outputs": []
    },
    {
      "cell_type": "code",
      "source": [
        "def coinFlip(number):\n",
        "    global heads\n",
        "    global tails\n",
        "    for i in range(number):\n",
        "        flip = random.randint(1,2)\n",
        "        if flip == 1:\n",
        "            heads += 1\n",
        "        else:\n",
        "            tails += 1\n",
        "    print('Total number of Heads: ',heads)\n",
        "    print('Total number of Tails: ', tails)\n",
        "    \n",
        "    print('Total Flips: ',i+1)\n",
        "\n",
        "coinFlip(2)\n",
        "\n"
      ],
      "metadata": {
        "colab": {
          "base_uri": "https://localhost:8080/"
        },
        "id": "JI-sl0kaII29",
        "outputId": "8b8b10b7-116e-4322-ddb5-271a9285000d"
      },
      "execution_count": 14,
      "outputs": [
        {
          "output_type": "stream",
          "name": "stdout",
          "text": [
            "Total number of Heads:  24\n",
            "Total number of Tails:  22\n",
            "Total Flips:  2\n"
          ]
        }
      ]
    },
    {
      "cell_type": "code",
      "source": [],
      "metadata": {
        "id": "MTqAqlS1IJeQ"
      },
      "execution_count": null,
      "outputs": []
    }
  ]
}