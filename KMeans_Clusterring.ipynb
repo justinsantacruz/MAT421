{
  "cells": [
    {
      "cell_type": "markdown",
      "metadata": {
        "id": "view-in-github",
        "colab_type": "text"
      },
      "source": [
        "<a href=\"https://colab.research.google.com/github/justinsantacruz/MAT421/blob/main/KMeans_Clusterring.ipynb\" target=\"_parent\"><img src=\"https://colab.research.google.com/assets/colab-badge.svg\" alt=\"Open In Colab\"/></a>"
      ]
    },
    {
      "cell_type": "code",
      "execution_count": null,
      "id": "276421c7",
      "metadata": {
        "id": "276421c7"
      },
      "outputs": [],
      "source": [
        "import pandas as pd\n",
        "import numpy as np"
      ]
    },
    {
      "cell_type": "code",
      "execution_count": null,
      "id": "3ac2e39b",
      "metadata": {
        "id": "3ac2e39b",
        "outputId": "0db6a9fe-05cb-4391-de84-b9549454a901"
      },
      "outputs": [
        {
          "name": "stderr",
          "output_type": "stream",
          "text": [
            "/var/folders/sh/fg8h_dzn7339m589gj4fszcc0000gn/T/ipykernel_66613/3119074594.py:1: DtypeWarning: Columns (25,108) have mixed types. Specify dtype option on import or set low_memory=False.\n",
            "  players = pd.read_csv(\"/Users/Justin/Desktop/FALL2022/MAT494/Dataset/players_22.csv\")\n"
          ]
        }
      ],
      "source": [
        "players = pd.read_csv(\"/Users/Justin/Desktop/FALL2022/MAT494/Dataset/players_22.csv\")"
      ]
    },
    {
      "cell_type": "code",
      "execution_count": null,
      "id": "b57aeb12",
      "metadata": {
        "id": "b57aeb12",
        "outputId": "d0be8182-3003-4cba-84a6-bfea8277f4b7"
      },
      "outputs": [
        {
          "data": {
            "text/html": [
              "<div>\n",
              "<style scoped>\n",
              "    .dataframe tbody tr th:only-of-type {\n",
              "        vertical-align: middle;\n",
              "    }\n",
              "\n",
              "    .dataframe tbody tr th {\n",
              "        vertical-align: top;\n",
              "    }\n",
              "\n",
              "    .dataframe thead th {\n",
              "        text-align: right;\n",
              "    }\n",
              "</style>\n",
              "<table border=\"1\" class=\"dataframe\">\n",
              "  <thead>\n",
              "    <tr style=\"text-align: right;\">\n",
              "      <th></th>\n",
              "      <th>sofifa_id</th>\n",
              "      <th>player_url</th>\n",
              "      <th>short_name</th>\n",
              "      <th>long_name</th>\n",
              "      <th>player_positions</th>\n",
              "      <th>overall</th>\n",
              "      <th>potential</th>\n",
              "      <th>value_eur</th>\n",
              "      <th>wage_eur</th>\n",
              "      <th>age</th>\n",
              "      <th>...</th>\n",
              "      <th>lcb</th>\n",
              "      <th>cb</th>\n",
              "      <th>rcb</th>\n",
              "      <th>rb</th>\n",
              "      <th>gk</th>\n",
              "      <th>player_face_url</th>\n",
              "      <th>club_logo_url</th>\n",
              "      <th>club_flag_url</th>\n",
              "      <th>nation_logo_url</th>\n",
              "      <th>nation_flag_url</th>\n",
              "    </tr>\n",
              "  </thead>\n",
              "  <tbody>\n",
              "    <tr>\n",
              "      <th>0</th>\n",
              "      <td>158023</td>\n",
              "      <td>https://sofifa.com/player/158023/lionel-messi/...</td>\n",
              "      <td>L. Messi</td>\n",
              "      <td>Lionel Andrés Messi Cuccittini</td>\n",
              "      <td>RW, ST, CF</td>\n",
              "      <td>93</td>\n",
              "      <td>93</td>\n",
              "      <td>78000000.0</td>\n",
              "      <td>320000.0</td>\n",
              "      <td>34</td>\n",
              "      <td>...</td>\n",
              "      <td>50+3</td>\n",
              "      <td>50+3</td>\n",
              "      <td>50+3</td>\n",
              "      <td>61+3</td>\n",
              "      <td>19+3</td>\n",
              "      <td>https://cdn.sofifa.net/players/158/023/22_120.png</td>\n",
              "      <td>https://cdn.sofifa.net/teams/73/60.png</td>\n",
              "      <td>https://cdn.sofifa.net/flags/fr.png</td>\n",
              "      <td>https://cdn.sofifa.net/teams/1369/60.png</td>\n",
              "      <td>https://cdn.sofifa.net/flags/ar.png</td>\n",
              "    </tr>\n",
              "    <tr>\n",
              "      <th>1</th>\n",
              "      <td>188545</td>\n",
              "      <td>https://sofifa.com/player/188545/robert-lewand...</td>\n",
              "      <td>R. Lewandowski</td>\n",
              "      <td>Robert Lewandowski</td>\n",
              "      <td>ST</td>\n",
              "      <td>92</td>\n",
              "      <td>92</td>\n",
              "      <td>119500000.0</td>\n",
              "      <td>270000.0</td>\n",
              "      <td>32</td>\n",
              "      <td>...</td>\n",
              "      <td>60+3</td>\n",
              "      <td>60+3</td>\n",
              "      <td>60+3</td>\n",
              "      <td>61+3</td>\n",
              "      <td>19+3</td>\n",
              "      <td>https://cdn.sofifa.net/players/188/545/22_120.png</td>\n",
              "      <td>https://cdn.sofifa.net/teams/21/60.png</td>\n",
              "      <td>https://cdn.sofifa.net/flags/de.png</td>\n",
              "      <td>https://cdn.sofifa.net/teams/1353/60.png</td>\n",
              "      <td>https://cdn.sofifa.net/flags/pl.png</td>\n",
              "    </tr>\n",
              "    <tr>\n",
              "      <th>2</th>\n",
              "      <td>20801</td>\n",
              "      <td>https://sofifa.com/player/20801/c-ronaldo-dos-...</td>\n",
              "      <td>Cristiano Ronaldo</td>\n",
              "      <td>Cristiano Ronaldo dos Santos Aveiro</td>\n",
              "      <td>ST, LW</td>\n",
              "      <td>91</td>\n",
              "      <td>91</td>\n",
              "      <td>45000000.0</td>\n",
              "      <td>270000.0</td>\n",
              "      <td>36</td>\n",
              "      <td>...</td>\n",
              "      <td>53+3</td>\n",
              "      <td>53+3</td>\n",
              "      <td>53+3</td>\n",
              "      <td>60+3</td>\n",
              "      <td>20+3</td>\n",
              "      <td>https://cdn.sofifa.net/players/020/801/22_120.png</td>\n",
              "      <td>https://cdn.sofifa.net/teams/11/60.png</td>\n",
              "      <td>https://cdn.sofifa.net/flags/gb-eng.png</td>\n",
              "      <td>https://cdn.sofifa.net/teams/1354/60.png</td>\n",
              "      <td>https://cdn.sofifa.net/flags/pt.png</td>\n",
              "    </tr>\n",
              "    <tr>\n",
              "      <th>3</th>\n",
              "      <td>190871</td>\n",
              "      <td>https://sofifa.com/player/190871/neymar-da-sil...</td>\n",
              "      <td>Neymar Jr</td>\n",
              "      <td>Neymar da Silva Santos Júnior</td>\n",
              "      <td>LW, CAM</td>\n",
              "      <td>91</td>\n",
              "      <td>91</td>\n",
              "      <td>129000000.0</td>\n",
              "      <td>270000.0</td>\n",
              "      <td>29</td>\n",
              "      <td>...</td>\n",
              "      <td>50+3</td>\n",
              "      <td>50+3</td>\n",
              "      <td>50+3</td>\n",
              "      <td>62+3</td>\n",
              "      <td>20+3</td>\n",
              "      <td>https://cdn.sofifa.net/players/190/871/22_120.png</td>\n",
              "      <td>https://cdn.sofifa.net/teams/73/60.png</td>\n",
              "      <td>https://cdn.sofifa.net/flags/fr.png</td>\n",
              "      <td>NaN</td>\n",
              "      <td>https://cdn.sofifa.net/flags/br.png</td>\n",
              "    </tr>\n",
              "    <tr>\n",
              "      <th>4</th>\n",
              "      <td>192985</td>\n",
              "      <td>https://sofifa.com/player/192985/kevin-de-bruy...</td>\n",
              "      <td>K. De Bruyne</td>\n",
              "      <td>Kevin De Bruyne</td>\n",
              "      <td>CM, CAM</td>\n",
              "      <td>91</td>\n",
              "      <td>91</td>\n",
              "      <td>125500000.0</td>\n",
              "      <td>350000.0</td>\n",
              "      <td>30</td>\n",
              "      <td>...</td>\n",
              "      <td>69+3</td>\n",
              "      <td>69+3</td>\n",
              "      <td>69+3</td>\n",
              "      <td>75+3</td>\n",
              "      <td>21+3</td>\n",
              "      <td>https://cdn.sofifa.net/players/192/985/22_120.png</td>\n",
              "      <td>https://cdn.sofifa.net/teams/10/60.png</td>\n",
              "      <td>https://cdn.sofifa.net/flags/gb-eng.png</td>\n",
              "      <td>https://cdn.sofifa.net/teams/1325/60.png</td>\n",
              "      <td>https://cdn.sofifa.net/flags/be.png</td>\n",
              "    </tr>\n",
              "  </tbody>\n",
              "</table>\n",
              "<p>5 rows × 110 columns</p>\n",
              "</div>"
            ],
            "text/plain": [
              "   sofifa_id                                         player_url  \\\n",
              "0     158023  https://sofifa.com/player/158023/lionel-messi/...   \n",
              "1     188545  https://sofifa.com/player/188545/robert-lewand...   \n",
              "2      20801  https://sofifa.com/player/20801/c-ronaldo-dos-...   \n",
              "3     190871  https://sofifa.com/player/190871/neymar-da-sil...   \n",
              "4     192985  https://sofifa.com/player/192985/kevin-de-bruy...   \n",
              "\n",
              "          short_name                            long_name player_positions  \\\n",
              "0           L. Messi       Lionel Andrés Messi Cuccittini       RW, ST, CF   \n",
              "1     R. Lewandowski                   Robert Lewandowski               ST   \n",
              "2  Cristiano Ronaldo  Cristiano Ronaldo dos Santos Aveiro           ST, LW   \n",
              "3          Neymar Jr        Neymar da Silva Santos Júnior          LW, CAM   \n",
              "4       K. De Bruyne                      Kevin De Bruyne          CM, CAM   \n",
              "\n",
              "   overall  potential    value_eur  wage_eur  age  ...   lcb    cb   rcb  \\\n",
              "0       93         93   78000000.0  320000.0   34  ...  50+3  50+3  50+3   \n",
              "1       92         92  119500000.0  270000.0   32  ...  60+3  60+3  60+3   \n",
              "2       91         91   45000000.0  270000.0   36  ...  53+3  53+3  53+3   \n",
              "3       91         91  129000000.0  270000.0   29  ...  50+3  50+3  50+3   \n",
              "4       91         91  125500000.0  350000.0   30  ...  69+3  69+3  69+3   \n",
              "\n",
              "     rb    gk                                    player_face_url  \\\n",
              "0  61+3  19+3  https://cdn.sofifa.net/players/158/023/22_120.png   \n",
              "1  61+3  19+3  https://cdn.sofifa.net/players/188/545/22_120.png   \n",
              "2  60+3  20+3  https://cdn.sofifa.net/players/020/801/22_120.png   \n",
              "3  62+3  20+3  https://cdn.sofifa.net/players/190/871/22_120.png   \n",
              "4  75+3  21+3  https://cdn.sofifa.net/players/192/985/22_120.png   \n",
              "\n",
              "                            club_logo_url  \\\n",
              "0  https://cdn.sofifa.net/teams/73/60.png   \n",
              "1  https://cdn.sofifa.net/teams/21/60.png   \n",
              "2  https://cdn.sofifa.net/teams/11/60.png   \n",
              "3  https://cdn.sofifa.net/teams/73/60.png   \n",
              "4  https://cdn.sofifa.net/teams/10/60.png   \n",
              "\n",
              "                             club_flag_url  \\\n",
              "0      https://cdn.sofifa.net/flags/fr.png   \n",
              "1      https://cdn.sofifa.net/flags/de.png   \n",
              "2  https://cdn.sofifa.net/flags/gb-eng.png   \n",
              "3      https://cdn.sofifa.net/flags/fr.png   \n",
              "4  https://cdn.sofifa.net/flags/gb-eng.png   \n",
              "\n",
              "                            nation_logo_url  \\\n",
              "0  https://cdn.sofifa.net/teams/1369/60.png   \n",
              "1  https://cdn.sofifa.net/teams/1353/60.png   \n",
              "2  https://cdn.sofifa.net/teams/1354/60.png   \n",
              "3                                       NaN   \n",
              "4  https://cdn.sofifa.net/teams/1325/60.png   \n",
              "\n",
              "                       nation_flag_url  \n",
              "0  https://cdn.sofifa.net/flags/ar.png  \n",
              "1  https://cdn.sofifa.net/flags/pl.png  \n",
              "2  https://cdn.sofifa.net/flags/pt.png  \n",
              "3  https://cdn.sofifa.net/flags/br.png  \n",
              "4  https://cdn.sofifa.net/flags/be.png  \n",
              "\n",
              "[5 rows x 110 columns]"
            ]
          },
          "execution_count": 3,
          "metadata": {},
          "output_type": "execute_result"
        }
      ],
      "source": [
        "players.head()"
      ]
    },
    {
      "cell_type": "code",
      "execution_count": null,
      "id": "46780244",
      "metadata": {
        "id": "46780244"
      },
      "outputs": [],
      "source": [
        "features = [\"overall\", \"potential\", \"wage_eur\", \"value_eur\", \"age\"]"
      ]
    },
    {
      "cell_type": "code",
      "execution_count": null,
      "id": "8129387d",
      "metadata": {
        "id": "8129387d"
      },
      "outputs": [],
      "source": [
        "players = players.dropna(subset=features)"
      ]
    },
    {
      "cell_type": "code",
      "execution_count": null,
      "id": "2529ff85",
      "metadata": {
        "id": "2529ff85"
      },
      "outputs": [],
      "source": [
        "data = players[features].copy()"
      ]
    },
    {
      "cell_type": "code",
      "execution_count": null,
      "id": "5f9d7820",
      "metadata": {
        "id": "5f9d7820",
        "outputId": "1cf6a742-b71d-46a3-f916-a1da392a08f6"
      },
      "outputs": [
        {
          "data": {
            "text/html": [
              "<div>\n",
              "<style scoped>\n",
              "    .dataframe tbody tr th:only-of-type {\n",
              "        vertical-align: middle;\n",
              "    }\n",
              "\n",
              "    .dataframe tbody tr th {\n",
              "        vertical-align: top;\n",
              "    }\n",
              "\n",
              "    .dataframe thead th {\n",
              "        text-align: right;\n",
              "    }\n",
              "</style>\n",
              "<table border=\"1\" class=\"dataframe\">\n",
              "  <thead>\n",
              "    <tr style=\"text-align: right;\">\n",
              "      <th></th>\n",
              "      <th>overall</th>\n",
              "      <th>potential</th>\n",
              "      <th>wage_eur</th>\n",
              "      <th>value_eur</th>\n",
              "      <th>age</th>\n",
              "    </tr>\n",
              "  </thead>\n",
              "  <tbody>\n",
              "    <tr>\n",
              "      <th>0</th>\n",
              "      <td>93</td>\n",
              "      <td>93</td>\n",
              "      <td>320000.0</td>\n",
              "      <td>78000000.0</td>\n",
              "      <td>34</td>\n",
              "    </tr>\n",
              "    <tr>\n",
              "      <th>1</th>\n",
              "      <td>92</td>\n",
              "      <td>92</td>\n",
              "      <td>270000.0</td>\n",
              "      <td>119500000.0</td>\n",
              "      <td>32</td>\n",
              "    </tr>\n",
              "    <tr>\n",
              "      <th>2</th>\n",
              "      <td>91</td>\n",
              "      <td>91</td>\n",
              "      <td>270000.0</td>\n",
              "      <td>45000000.0</td>\n",
              "      <td>36</td>\n",
              "    </tr>\n",
              "    <tr>\n",
              "      <th>3</th>\n",
              "      <td>91</td>\n",
              "      <td>91</td>\n",
              "      <td>270000.0</td>\n",
              "      <td>129000000.0</td>\n",
              "      <td>29</td>\n",
              "    </tr>\n",
              "    <tr>\n",
              "      <th>4</th>\n",
              "      <td>91</td>\n",
              "      <td>91</td>\n",
              "      <td>350000.0</td>\n",
              "      <td>125500000.0</td>\n",
              "      <td>30</td>\n",
              "    </tr>\n",
              "    <tr>\n",
              "      <th>...</th>\n",
              "      <td>...</td>\n",
              "      <td>...</td>\n",
              "      <td>...</td>\n",
              "      <td>...</td>\n",
              "      <td>...</td>\n",
              "    </tr>\n",
              "    <tr>\n",
              "      <th>19234</th>\n",
              "      <td>47</td>\n",
              "      <td>52</td>\n",
              "      <td>1000.0</td>\n",
              "      <td>70000.0</td>\n",
              "      <td>22</td>\n",
              "    </tr>\n",
              "    <tr>\n",
              "      <th>19235</th>\n",
              "      <td>47</td>\n",
              "      <td>59</td>\n",
              "      <td>500.0</td>\n",
              "      <td>110000.0</td>\n",
              "      <td>19</td>\n",
              "    </tr>\n",
              "    <tr>\n",
              "      <th>19236</th>\n",
              "      <td>47</td>\n",
              "      <td>55</td>\n",
              "      <td>500.0</td>\n",
              "      <td>100000.0</td>\n",
              "      <td>21</td>\n",
              "    </tr>\n",
              "    <tr>\n",
              "      <th>19237</th>\n",
              "      <td>47</td>\n",
              "      <td>60</td>\n",
              "      <td>500.0</td>\n",
              "      <td>110000.0</td>\n",
              "      <td>19</td>\n",
              "    </tr>\n",
              "    <tr>\n",
              "      <th>19238</th>\n",
              "      <td>47</td>\n",
              "      <td>60</td>\n",
              "      <td>500.0</td>\n",
              "      <td>110000.0</td>\n",
              "      <td>19</td>\n",
              "    </tr>\n",
              "  </tbody>\n",
              "</table>\n",
              "<p>19165 rows × 5 columns</p>\n",
              "</div>"
            ],
            "text/plain": [
              "       overall  potential  wage_eur    value_eur  age\n",
              "0           93         93  320000.0   78000000.0   34\n",
              "1           92         92  270000.0  119500000.0   32\n",
              "2           91         91  270000.0   45000000.0   36\n",
              "3           91         91  270000.0  129000000.0   29\n",
              "4           91         91  350000.0  125500000.0   30\n",
              "...        ...        ...       ...          ...  ...\n",
              "19234       47         52    1000.0      70000.0   22\n",
              "19235       47         59     500.0     110000.0   19\n",
              "19236       47         55     500.0     100000.0   21\n",
              "19237       47         60     500.0     110000.0   19\n",
              "19238       47         60     500.0     110000.0   19\n",
              "\n",
              "[19165 rows x 5 columns]"
            ]
          },
          "execution_count": 7,
          "metadata": {},
          "output_type": "execute_result"
        }
      ],
      "source": [
        "data"
      ]
    },
    {
      "cell_type": "markdown",
      "id": "6df73254",
      "metadata": {
        "id": "6df73254"
      },
      "source": [
        "Pseudocode\n",
        "High level\n",
        "\n",
        "1.Scale data to standardize values\n",
        "\n",
        "2.Initialize random centroids\n",
        "\n",
        "3.Get labels for each data point\n",
        "\n",
        "4.Create new centroids\n",
        "\n",
        "5.Plot the centroids\n",
        "\n",
        "6.Repeat 3-5 until the centroids stop changing"
      ]
    },
    {
      "cell_type": "code",
      "execution_count": null,
      "id": "9edb3575",
      "metadata": {
        "id": "9edb3575"
      },
      "outputs": [],
      "source": [
        "data = ((data - data.min()) / (data.max() - data.min())) * 10 + 1"
      ]
    },
    {
      "cell_type": "code",
      "execution_count": null,
      "id": "ca9050bc",
      "metadata": {
        "id": "ca9050bc",
        "outputId": "9706e4b3-9881-4afc-cb5c-4d803a13087c"
      },
      "outputs": [
        {
          "data": {
            "text/html": [
              "<div>\n",
              "<style scoped>\n",
              "    .dataframe tbody tr th:only-of-type {\n",
              "        vertical-align: middle;\n",
              "    }\n",
              "\n",
              "    .dataframe tbody tr th {\n",
              "        vertical-align: top;\n",
              "    }\n",
              "\n",
              "    .dataframe thead th {\n",
              "        text-align: right;\n",
              "    }\n",
              "</style>\n",
              "<table border=\"1\" class=\"dataframe\">\n",
              "  <thead>\n",
              "    <tr style=\"text-align: right;\">\n",
              "      <th></th>\n",
              "      <th>overall</th>\n",
              "      <th>potential</th>\n",
              "      <th>wage_eur</th>\n",
              "      <th>value_eur</th>\n",
              "      <th>age</th>\n",
              "    </tr>\n",
              "  </thead>\n",
              "  <tbody>\n",
              "    <tr>\n",
              "      <th>count</th>\n",
              "      <td>19165.000000</td>\n",
              "      <td>19165.000000</td>\n",
              "      <td>19165.000000</td>\n",
              "      <td>19165.000000</td>\n",
              "      <td>19165.000000</td>\n",
              "    </tr>\n",
              "    <tr>\n",
              "      <th>mean</th>\n",
              "      <td>5.078302</td>\n",
              "      <td>5.799998</td>\n",
              "      <td>1.243826</td>\n",
              "      <td>1.146473</td>\n",
              "      <td>4.403716</td>\n",
              "    </tr>\n",
              "    <tr>\n",
              "      <th>std</th>\n",
              "      <td>1.496262</td>\n",
              "      <td>1.323418</td>\n",
              "      <td>0.557253</td>\n",
              "      <td>0.392477</td>\n",
              "      <td>1.750932</td>\n",
              "    </tr>\n",
              "    <tr>\n",
              "      <th>min</th>\n",
              "      <td>1.000000</td>\n",
              "      <td>1.000000</td>\n",
              "      <td>1.000000</td>\n",
              "      <td>1.000000</td>\n",
              "      <td>1.000000</td>\n",
              "    </tr>\n",
              "    <tr>\n",
              "      <th>25%</th>\n",
              "      <td>4.043478</td>\n",
              "      <td>4.913043</td>\n",
              "      <td>1.014306</td>\n",
              "      <td>1.024022</td>\n",
              "      <td>2.851852</td>\n",
              "    </tr>\n",
              "    <tr>\n",
              "      <th>50%</th>\n",
              "      <td>5.130435</td>\n",
              "      <td>5.782609</td>\n",
              "      <td>1.071531</td>\n",
              "      <td>1.049796</td>\n",
              "      <td>4.333333</td>\n",
              "    </tr>\n",
              "    <tr>\n",
              "      <th>75%</th>\n",
              "      <td>6.000000</td>\n",
              "      <td>6.652174</td>\n",
              "      <td>1.214592</td>\n",
              "      <td>1.102634</td>\n",
              "      <td>5.814815</td>\n",
              "    </tr>\n",
              "    <tr>\n",
              "      <th>max</th>\n",
              "      <td>11.000000</td>\n",
              "      <td>11.000000</td>\n",
              "      <td>11.000000</td>\n",
              "      <td>11.000000</td>\n",
              "      <td>11.000000</td>\n",
              "    </tr>\n",
              "  </tbody>\n",
              "</table>\n",
              "</div>"
            ],
            "text/plain": [
              "            overall     potential      wage_eur     value_eur           age\n",
              "count  19165.000000  19165.000000  19165.000000  19165.000000  19165.000000\n",
              "mean       5.078302      5.799998      1.243826      1.146473      4.403716\n",
              "std        1.496262      1.323418      0.557253      0.392477      1.750932\n",
              "min        1.000000      1.000000      1.000000      1.000000      1.000000\n",
              "25%        4.043478      4.913043      1.014306      1.024022      2.851852\n",
              "50%        5.130435      5.782609      1.071531      1.049796      4.333333\n",
              "75%        6.000000      6.652174      1.214592      1.102634      5.814815\n",
              "max       11.000000     11.000000     11.000000     11.000000     11.000000"
            ]
          },
          "execution_count": 10,
          "metadata": {},
          "output_type": "execute_result"
        }
      ],
      "source": [
        "data.describe()"
      ]
    },
    {
      "cell_type": "code",
      "execution_count": null,
      "id": "4ab75f83",
      "metadata": {
        "id": "4ab75f83",
        "outputId": "ddb3f9a0-4dbc-4aa6-c56c-460ac17b94d3"
      },
      "outputs": [
        {
          "data": {
            "text/html": [
              "<div>\n",
              "<style scoped>\n",
              "    .dataframe tbody tr th:only-of-type {\n",
              "        vertical-align: middle;\n",
              "    }\n",
              "\n",
              "    .dataframe tbody tr th {\n",
              "        vertical-align: top;\n",
              "    }\n",
              "\n",
              "    .dataframe thead th {\n",
              "        text-align: right;\n",
              "    }\n",
              "</style>\n",
              "<table border=\"1\" class=\"dataframe\">\n",
              "  <thead>\n",
              "    <tr style=\"text-align: right;\">\n",
              "      <th></th>\n",
              "      <th>overall</th>\n",
              "      <th>potential</th>\n",
              "      <th>wage_eur</th>\n",
              "      <th>value_eur</th>\n",
              "      <th>age</th>\n",
              "    </tr>\n",
              "  </thead>\n",
              "  <tbody>\n",
              "    <tr>\n",
              "      <th>0</th>\n",
              "      <td>11.000000</td>\n",
              "      <td>10.565217</td>\n",
              "      <td>10.141631</td>\n",
              "      <td>5.020341</td>\n",
              "      <td>7.666667</td>\n",
              "    </tr>\n",
              "    <tr>\n",
              "      <th>1</th>\n",
              "      <td>10.782609</td>\n",
              "      <td>10.347826</td>\n",
              "      <td>8.711016</td>\n",
              "      <td>7.159616</td>\n",
              "      <td>6.925926</td>\n",
              "    </tr>\n",
              "    <tr>\n",
              "      <th>2</th>\n",
              "      <td>10.565217</td>\n",
              "      <td>10.130435</td>\n",
              "      <td>8.711016</td>\n",
              "      <td>3.319231</td>\n",
              "      <td>8.407407</td>\n",
              "    </tr>\n",
              "    <tr>\n",
              "      <th>3</th>\n",
              "      <td>10.565217</td>\n",
              "      <td>10.130435</td>\n",
              "      <td>8.711016</td>\n",
              "      <td>7.649329</td>\n",
              "      <td>5.814815</td>\n",
              "    </tr>\n",
              "    <tr>\n",
              "      <th>4</th>\n",
              "      <td>10.565217</td>\n",
              "      <td>10.130435</td>\n",
              "      <td>11.000000</td>\n",
              "      <td>7.468908</td>\n",
              "      <td>6.185185</td>\n",
              "    </tr>\n",
              "  </tbody>\n",
              "</table>\n",
              "</div>"
            ],
            "text/plain": [
              "     overall  potential   wage_eur  value_eur       age\n",
              "0  11.000000  10.565217  10.141631   5.020341  7.666667\n",
              "1  10.782609  10.347826   8.711016   7.159616  6.925926\n",
              "2  10.565217  10.130435   8.711016   3.319231  8.407407\n",
              "3  10.565217  10.130435   8.711016   7.649329  5.814815\n",
              "4  10.565217  10.130435  11.000000   7.468908  6.185185"
            ]
          },
          "execution_count": 11,
          "metadata": {},
          "output_type": "execute_result"
        }
      ],
      "source": [
        "data.head()"
      ]
    },
    {
      "cell_type": "code",
      "execution_count": null,
      "id": "1ace5f56",
      "metadata": {
        "id": "1ace5f56"
      },
      "outputs": [],
      "source": [
        "def random_centroids(data, k):\n",
        "    centroids = []\n",
        "    for i in range(k):\n",
        "        centroid = data.apply(lambda x: float(x.sample()))\n",
        "        centroids.append(centroid)\n",
        "    return pd.concat(centroids, axis=1)"
      ]
    },
    {
      "cell_type": "code",
      "execution_count": null,
      "id": "de995b03",
      "metadata": {
        "id": "de995b03"
      },
      "outputs": [],
      "source": [
        "centroids = random_centroids(data, 5)"
      ]
    },
    {
      "cell_type": "code",
      "execution_count": null,
      "id": "1926fa9d",
      "metadata": {
        "id": "1926fa9d",
        "outputId": "1d7d7348-02f4-4673-901d-1d3f5d4c0377"
      },
      "outputs": [
        {
          "data": {
            "text/html": [
              "<div>\n",
              "<style scoped>\n",
              "    .dataframe tbody tr th:only-of-type {\n",
              "        vertical-align: middle;\n",
              "    }\n",
              "\n",
              "    .dataframe tbody tr th {\n",
              "        vertical-align: top;\n",
              "    }\n",
              "\n",
              "    .dataframe thead th {\n",
              "        text-align: right;\n",
              "    }\n",
              "</style>\n",
              "<table border=\"1\" class=\"dataframe\">\n",
              "  <thead>\n",
              "    <tr style=\"text-align: right;\">\n",
              "      <th></th>\n",
              "      <th>0</th>\n",
              "      <th>1</th>\n",
              "      <th>2</th>\n",
              "      <th>3</th>\n",
              "      <th>4</th>\n",
              "    </tr>\n",
              "  </thead>\n",
              "  <tbody>\n",
              "    <tr>\n",
              "      <th>overall</th>\n",
              "      <td>4.478261</td>\n",
              "      <td>3.826087</td>\n",
              "      <td>6.217391</td>\n",
              "      <td>5.565217</td>\n",
              "      <td>2.956522</td>\n",
              "    </tr>\n",
              "    <tr>\n",
              "      <th>potential</th>\n",
              "      <td>6.000000</td>\n",
              "      <td>6.000000</td>\n",
              "      <td>8.173913</td>\n",
              "      <td>5.347826</td>\n",
              "      <td>3.826087</td>\n",
              "    </tr>\n",
              "    <tr>\n",
              "      <th>wage_eur</th>\n",
              "      <td>1.157368</td>\n",
              "      <td>1.071531</td>\n",
              "      <td>1.128755</td>\n",
              "      <td>1.042918</td>\n",
              "      <td>1.007153</td>\n",
              "    </tr>\n",
              "    <tr>\n",
              "      <th>value_eur</th>\n",
              "      <td>1.257280</td>\n",
              "      <td>1.082014</td>\n",
              "      <td>1.824317</td>\n",
              "      <td>1.164492</td>\n",
              "      <td>1.216041</td>\n",
              "    </tr>\n",
              "    <tr>\n",
              "      <th>age</th>\n",
              "      <td>3.592593</td>\n",
              "      <td>7.296296</td>\n",
              "      <td>5.074074</td>\n",
              "      <td>2.851852</td>\n",
              "      <td>2.851852</td>\n",
              "    </tr>\n",
              "  </tbody>\n",
              "</table>\n",
              "</div>"
            ],
            "text/plain": [
              "                  0         1         2         3         4\n",
              "overall    4.478261  3.826087  6.217391  5.565217  2.956522\n",
              "potential  6.000000  6.000000  8.173913  5.347826  3.826087\n",
              "wage_eur   1.157368  1.071531  1.128755  1.042918  1.007153\n",
              "value_eur  1.257280  1.082014  1.824317  1.164492  1.216041\n",
              "age        3.592593  7.296296  5.074074  2.851852  2.851852"
            ]
          },
          "execution_count": 14,
          "metadata": {},
          "output_type": "execute_result"
        }
      ],
      "source": [
        "centroids"
      ]
    },
    {
      "cell_type": "code",
      "execution_count": null,
      "id": "90538712",
      "metadata": {
        "id": "90538712"
      },
      "outputs": [],
      "source": [
        "def get_labels(data, centroids):\n",
        "    distances = centroids.apply(lambda x: np.sqrt(((data - x) ** 2).sum(axis=1)))\n",
        "    return distances.idxmin(axis=1)"
      ]
    },
    {
      "cell_type": "code",
      "execution_count": null,
      "id": "2bf11ca2",
      "metadata": {
        "id": "2bf11ca2"
      },
      "outputs": [],
      "source": [
        "labels = get_labels(data, centroids)"
      ]
    },
    {
      "cell_type": "code",
      "execution_count": null,
      "id": "7beb738a",
      "metadata": {
        "id": "7beb738a",
        "outputId": "5d3f9095-ce2e-41fa-d7f8-c8a1f2ffd0c5"
      },
      "outputs": [
        {
          "data": {
            "text/plain": [
              "0    8425\n",
              "2    3941\n",
              "1    3595\n",
              "4    2610\n",
              "3     594\n",
              "dtype: int64"
            ]
          },
          "execution_count": 17,
          "metadata": {},
          "output_type": "execute_result"
        }
      ],
      "source": [
        "labels.value_counts()"
      ]
    },
    {
      "cell_type": "code",
      "execution_count": null,
      "id": "37d4ef71",
      "metadata": {
        "id": "37d4ef71"
      },
      "outputs": [],
      "source": [
        "def new_centroids(data, labels, k):\n",
        "    centroids = data.groupby(labels).apply(lambda x: np.exp(np.log(x).mean())).T\n",
        "    return centroids"
      ]
    },
    {
      "cell_type": "code",
      "execution_count": null,
      "id": "3ce6c87f",
      "metadata": {
        "id": "3ce6c87f"
      },
      "outputs": [],
      "source": [
        "from sklearn.decomposition import PCA\n",
        "import matplotlib.pyplot as plt\n",
        "from IPython.display import clear_output"
      ]
    },
    {
      "cell_type": "code",
      "execution_count": null,
      "id": "ee8dc567",
      "metadata": {
        "id": "ee8dc567"
      },
      "outputs": [],
      "source": [
        "def plot_clusters(data, labels, centroids, iteration):\n",
        "    pca = PCA(n_components=2)\n",
        "    data_2d = pca.fit_transform(data)\n",
        "    centroids_2d = pca.transform(centroids.T)\n",
        "    clear_output(wait=True)\n",
        "    plt.title(f'Iteration {iteration}')\n",
        "    plt.scatter(x=data_2d[:,0], y=data_2d[:,1], c=labels)\n",
        "    plt.scatter(x=centroids_2d[:,0], y=centroids_2d[:,1])\n",
        "    plt.show()"
      ]
    },
    {
      "cell_type": "code",
      "execution_count": null,
      "id": "825a72d3",
      "metadata": {
        "id": "825a72d3",
        "outputId": "3e7b99d1-3371-4042-c369-5967a5ebc1a6"
      },
      "outputs": [
        {
          "data": {
            "image/png": "[encoded data removed]",
            "text/plain": [
              "<Figure size 432x288 with 1 Axes>"
            ]
          },
          "metadata": {
            "needs_background": "light"
          },
          "output_type": "display_data"
        }
      ],
      "source": [
        "max_iterations = 100\n",
        "centroid_count = 3\n",
        "\n",
        "centroids = random_centroids(data, centroid_count)\n",
        "old_centroids = pd.DataFrame()\n",
        "iteration = 1\n",
        "\n",
        "while iteration < max_iterations and not centroids.equals(old_centroids):\n",
        "    old_centroids = centroids\n",
        "    \n",
        "    labels = get_labels(data, centroids)\n",
        "    centroids = new_centroids(data, labels, centroid_count)\n",
        "    plot_clusters(data, labels, centroids, iteration)\n",
        "    iteration += 1"
      ]
    },
    {
      "cell_type": "code",
      "execution_count": null,
      "id": "cb637d1e",
      "metadata": {
        "id": "cb637d1e"
      },
      "outputs": [],
      "source": [
        "centroids"
      ]
    },
    {
      "cell_type": "code",
      "execution_count": null,
      "id": "ed7ecf91",
      "metadata": {
        "id": "ed7ecf91"
      },
      "outputs": [],
      "source": [
        "labels.value_counts()"
      ]
    },
    {
      "cell_type": "code",
      "execution_count": null,
      "id": "30c8d8da",
      "metadata": {
        "id": "30c8d8da"
      },
      "outputs": [],
      "source": []
    }
  ],
  "metadata": {
    "kernelspec": {
      "display_name": "Python 3 (ipykernel)",
      "language": "python",
      "name": "python3"
    },
    "language_info": {
      "codemirror_mode": {
        "name": "ipython",
        "version": 3
      },
      "file_extension": ".py",
      "mimetype": "text/x-python",
      "name": "python",
      "nbconvert_exporter": "python",
      "pygments_lexer": "ipython3",
      "version": "3.9.12"
    },
    "colab": {
      "provenance": [],
      "include_colab_link": true
    }
  },
  "nbformat": 4,
  "nbformat_minor": 5
}